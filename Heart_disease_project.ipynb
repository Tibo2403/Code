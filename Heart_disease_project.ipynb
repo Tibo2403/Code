{
 "cells": [
  {
   "cell_type": "markdown",
   "metadata": {
    "id": "NbM3KFmHpmxz"
   },
   "source": [
    "Important parameters:\r\n",
    "    Number of instances: 302\r\n",
    "    Number of attributes: 14 continuos attributes\r\n",
    "Each of the attributes:\r\n",
    "    age: Age in years\r\n",
    "    sex: Sex(1= male, 0= female)\r\n",
    "    cp: Chest pain type (Value 1: typical angina, Value 2: atypical angina, Value3: non-aginal pain, Value 4: asymptomatic)\r\n",
    "    trestbps: Resting blood pressure (in mmHg on admission to the hospital)\r\n",
    "    chol: Serum Cholestoral in mg/dl\r\n",
    "    fbs: fast blood sugar > 120 mg/dl (1= true, 0=false)\r\n",
    "    restecg: Resting electrocardiographic results (0: normal, 1: having ST-T wave abnormality (T wave inversions and/or St elevation or depression of > 0.05mV, 2: showing probabal or definite left ventricular hypertrophy by Estes'criteria)\r\n",
    "    thalach: Maximum heart rate achieved\r\n",
    "    exang: Excercise included angina (1= yes, 0=no)\r\n",
    "    oldpeak: ST depression indced by exercise relative to rest\r\n",
    "    slope: the slope of the peak exercise ST segment (Value 1: upsloping, Value 2: flat, Value 3: downsloping)\r\n",
    "    ca : Number of major vessels (0-3) colored by flourosopy\r\n",
    "    thal: 3= normal, 6= fixed defect, 7= reversable defect\r\n",
    "    HeartDisease: Diagnosis of heart disease- angiprahic disease status (Value 0: <50% diameter narrowing, Value 1: > 50% diameter narrowing) in any major vessel: attributes 59 through 68 are vessels\r\n",
    "\r\n"
   ]
  },
  {
   "cell_type": "code",
   "execution_count": null,
   "metadata": {
    "id": "6NDBndcGoNEk"
   },
   "outputs": [],
   "source": [
    "import pandas as pd"
   ]
  },
  {
   "cell_type": "code",
   "execution_count": null,
   "metadata": {
    "colab": {
     "base_uri": "https://localhost:8080/"
    },
    "id": "lpujM1T3AHqZ",
    "outputId": "2c726534-06a3-4a3f-deff-98e50c7cd03b"
   },
   "outputs": [],
   "source": [
    "from google.colab import drive\r\n",
    "drive.mount('/content/drive')"
   ]
  },
  {
   "cell_type": "code",
   "execution_count": null,
   "metadata": {
    "colab": {
     "base_uri": "https://localhost:8080/"
    },
    "id": "iOpueQdAAZNk",
    "outputId": "de743c80-9420-4788-fd4c-f486666927c5"
   },
   "outputs": [],
   "source": [
    "%cd /content/drive/My Drive/Colab Notebooks"
   ]
  },
  {
   "cell_type": "code",
   "execution_count": null,
   "metadata": {
    "id": "ZFEl--ljAkSf"
   },
   "outputs": [],
   "source": [
    "#Import data\r\n",
    "HDNames= ['age','sex','cp','trestbps','chol','fbs','restecg','thalach','exang','oldpeak','slope','ca','hal','HeartDisease']\r\n",
    "Data = pd.read_excel('Ch3.ClevelandData.xlsx', names=HDNames)"
   ]
  },
  {
   "cell_type": "code",
   "execution_count": null,
   "metadata": {
    "colab": {
     "base_uri": "https://localhost:8080/"
    },
    "id": "v5s7A9c0BZE6",
    "outputId": "761ac71d-c0eb-4446-ed91-d13380d2a24f"
   },
   "outputs": [],
   "source": [
    "print(Data.head(20))\r\n",
    "print(Data.info())\r\n",
    "summary = Data.describe()\r\n",
    "print(summary)"
   ]
  },
  {
   "cell_type": "markdown",
   "metadata": {
    "id": "cIrhoGxAVTc_"
   },
   "source": [
    "Exploratory Analysis\r\n"
   ]
  },
  {
   "cell_type": "code",
   "execution_count": null,
   "metadata": {
    "id": "1YLfeDZ-VW2A"
   },
   "outputs": [],
   "source": [
    "#anomaly"
   ]
  },
  {
   "cell_type": "markdown",
   "metadata": {
    "id": "bOuX7GzBWGln"
   },
   "source": [
    "\r\n",
    "Pandas dtype : object -> python dtype is string ->  usage is text\r\n",
    "Pandas dtype : int64 -> python dtype is int ->  usage is integer numbers\r\n",
    "Pandas dtype : float64 -> python dtype is float ->  usage is floating point numbers\r\n",
    "\r\n"
   ]
  },
  {
   "cell_type": "markdown",
   "metadata": {
    "id": "T3ZI6CP8WGgB"
   },
   "source": []
  },
  {
   "cell_type": "code",
   "execution_count": null,
   "metadata": {
    "id": "uAXYKuk-elv9"
   },
   "outputs": [],
   "source": [
    "#Removing missing values\r\n",
    "import numpy as np"
   ]
  },
  {
   "cell_type": "code",
   "execution_count": null,
   "metadata": {
    "id": "GDQLIoSjfjcv"
   },
   "outputs": [],
   "source": [
    "DataNew = Data.replace('?', np.nan)"
   ]
  },
  {
   "cell_type": "code",
   "execution_count": null,
   "metadata": {
    "colab": {
     "base_uri": "https://localhost:8080/"
    },
    "id": "PsZWXq2wf0qq",
    "outputId": "d35ab4ce-978e-4562-831e-d9e9f9b3b8e7"
   },
   "outputs": [],
   "source": [
    "print(DataNew.info())"
   ]
  },
  {
   "cell_type": "code",
   "execution_count": null,
   "metadata": {
    "colab": {
     "base_uri": "https://localhost:8080/"
    },
    "id": "RZEVJFAggKCV",
    "outputId": "983a0ed7-3cbc-4542-d472-5f9543b79ecc"
   },
   "outputs": [],
   "source": [
    "print(DataNew.describe())"
   ]
  },
  {
   "cell_type": "code",
   "execution_count": null,
   "metadata": {
    "colab": {
     "base_uri": "https://localhost:8080/"
    },
    "id": "33pUbC8IgU7h",
    "outputId": "976d3004-d279-4ee2-b5ce-b576e20a4ad7"
   },
   "outputs": [],
   "source": [
    "print(DataNew.isnull().sum())"
   ]
  },
  {
   "cell_type": "markdown",
   "metadata": {
    "id": "x3XQoEXCgmXI"
   },
   "source": [
    "\r\n",
    "\r\n",
    "*   Replace the values with constant values\r\n",
    "*   Set the values with other columns' values\r\n",
    "\r\n",
    "\r\n",
    "*  Transform the data with functions\r\n",
    "*   Delete rows\r\n",
    "\r\n",
    "\r\n",
    "\r\n"
   ]
  },
  {
   "cell_type": "code",
   "execution_count": null,
   "metadata": {
    "id": "BdgNXIkChEBO"
   },
   "outputs": [],
   "source": [
    "\r\n",
    "DataNew = DataNew.dropna()"
   ]
  },
  {
   "cell_type": "code",
   "execution_count": null,
   "metadata": {
    "colab": {
     "base_uri": "https://localhost:8080/"
    },
    "id": "-4054XJXhNBH",
    "outputId": "219fe244-0fa4-4240-a8d5-3057a6049f3e"
   },
   "outputs": [],
   "source": [
    "print(DataNew.info())"
   ]
  },
  {
   "cell_type": "code",
   "execution_count": null,
   "metadata": {
    "colab": {
     "base_uri": "https://localhost:8080/"
    },
    "id": "nKT26rFKhWsS",
    "outputId": "ac65a0cf-ab18-4180-cade-41f290abfaf3"
   },
   "outputs": [],
   "source": [
    "\r\n",
    "print(DataNew.isnull().sum())"
   ]
  },
  {
   "cell_type": "markdown",
   "metadata": {
    "id": "H_IE5qwnAvZp"
   },
   "source": [
    "x(scaled) = (x-mean)/sd"
   ]
  },
  {
   "cell_type": "markdown",
   "metadata": {
    "id": "0VTQXXbKA0t0"
   },
   "source": [
    "Mean = 0\r\n",
    "standard deviation = 1 "
   ]
  },
  {
   "cell_type": "markdown",
   "metadata": {
    "id": "zWlYsY5FBFxP"
   },
   "source": [
    "\r\n",
    "\r\n",
    "*   Value > mean will have +z score\r\n",
    "*   Value < mean will have -z score\r\n",
    "\r\n"
   ]
  },
  {
   "cell_type": "code",
   "execution_count": null,
   "metadata": {
    "colab": {
     "base_uri": "https://localhost:8080/",
     "height": 35
    },
    "id": "eOgzqx_zBRl6",
    "outputId": "a11e3ecc-02bc-4f41-a311-4c9070f5c731"
   },
   "outputs": [],
   "source": [
    "InputNames = HDNames\r\n",
    "InputNames.pop()"
   ]
  },
  {
   "cell_type": "code",
   "execution_count": null,
   "metadata": {
    "id": "hRl1gdgoA91H"
   },
   "outputs": [],
   "source": [
    "Input = pd.DataFrame(DataNew.iloc[:, 0:13],columns=InputNames)"
   ]
  },
  {
   "cell_type": "code",
   "execution_count": null,
   "metadata": {
    "id": "WvaS8w_eB4_D"
   },
   "outputs": [],
   "source": [
    "Target = pd.DataFrame(DataNew.iloc[:, 13],columns=['HeartDisease'])"
   ]
  },
  {
   "cell_type": "code",
   "execution_count": null,
   "metadata": {
    "colab": {
     "base_uri": "https://localhost:8080/"
    },
    "id": "IZutH7fHCIan",
    "outputId": "49e91c65-08d3-4e77-8a6c-747955357039"
   },
   "outputs": [],
   "source": [
    "from sklearn.preprocessing import StandardScaler\r\n",
    "\r\n",
    "scaler = StandardScaler()\r\n",
    "print(scaler.fit(Input))"
   ]
  },
  {
   "cell_type": "code",
   "execution_count": null,
   "metadata": {
    "colab": {
     "base_uri": "https://localhost:8080/"
    },
    "id": "tKv_lYJZCZZ1",
    "outputId": "6c2a2337-9308-4dee-99db-4b6f6382aa4f"
   },
   "outputs": [],
   "source": [
    "InputScaled = scaler.fit_transform(Input)\r\n",
    "\r\n",
    "InputScaled = pd.DataFrame(InputScaled,columns=InputNames)\r\n",
    "\r\n",
    "summary = InputScaled.describe()\r\n",
    "summary = summary.transpose()\r\n",
    "print(summary)"
   ]
  },
  {
   "cell_type": "code",
   "execution_count": null,
   "metadata": {
    "colab": {
     "base_uri": "https://localhost:8080/",
     "height": 265
    },
    "id": "_nWIY6AAQn7U",
    "outputId": "6717dc53-2f31-461c-c692-58e8f77cb747"
   },
   "outputs": [],
   "source": [
    "import matplotlib.pyplot as plt\r\n",
    "boxplot = InputScaled.boxplot(column=InputNames,showmeans=True)\r\n",
    "plt.show()"
   ]
  },
  {
   "cell_type": "code",
   "execution_count": null,
   "metadata": {
    "colab": {
     "base_uri": "https://localhost:8080/",
     "height": 401
    },
    "id": "iVbAhlpvRd8Z",
    "outputId": "e9258efe-c9df-42b2-acb8-61704f8d46ad"
   },
   "outputs": [],
   "source": [
    "pd.plotting.scatter_matrix(InputScaled, figsize=(6, 6))\r\n",
    "plt.show()"
   ]
  },
  {
   "cell_type": "code",
   "execution_count": null,
   "metadata": {
    "colab": {
     "base_uri": "https://localhost:8080/"
    },
    "id": "i-93-tqjSEAS",
    "outputId": "034ec7ca-3cdf-4b76-fab0-270c34409bc2"
   },
   "outputs": [],
   "source": [
    "CorData = InputScaled.corr(method='pearson')\r\n",
    "\r\n",
    "with pd.option_context('display.max_rows', None, 'display.max_columns', CorData.shape[1]):\r\n",
    "    print(CorData)"
   ]
  },
  {
   "cell_type": "code",
   "execution_count": null,
   "metadata": {
    "colab": {
     "base_uri": "https://localhost:8080/",
     "height": 258
    },
    "id": "xZ8WfiNYSn9n",
    "outputId": "b5220949-325e-4d43-f184-6a88f17a5bf3"
   },
   "outputs": [],
   "source": [
    "plt.matshow(CorData)\r\n",
    "plt.xticks(range(len(CorData.columns)), CorData.columns)\r\n",
    "plt.yticks(range(len(CorData.columns)), CorData.columns)\r\n",
    "plt.colorbar()\r\n",
    "plt.show()"
   ]
  },
  {
   "cell_type": "code",
   "execution_count": null,
   "metadata": {
    "colab": {
     "base_uri": "https://localhost:8080/"
    },
    "id": "yx0k6eKMU6MH",
    "outputId": "935e0cad-04d9-4d86-c1de-c094dbf09f8c"
   },
   "outputs": [],
   "source": [
    "#Split the data\r\n",
    "from sklearn.model_selection import train_test_split\r\n",
    "\r\n",
    "Input_train, Input_test, Target_train, Target_test = train_test_split(InputScaled, Target, test_size = 0.30, random_state = 5)\r\n",
    "print(Input_train.shape)\r\n",
    "print(Input_test.shape)\r\n",
    "print(Target_train.shape)\r\n",
    "print(Target_test.shape)"
   ]
  },
  {
   "cell_type": "markdown",
   "metadata": {
    "id": "PU8zCq4IWAV4"
   },
   "source": [
    "test_size = 0.3 means that 30 % of the data is divided up as data set.          \r\n",
    "random_state parameter is used to set the seed used by the random number generator.                                                                      \r\n",
    "InputScaled and Target parameters are inputs and target DataFrames.     \r\n"
   ]
  },
  {
   "cell_type": "markdown",
   "metadata": {
    "id": "9MNpw22IWmuA"
   },
   "source": [
    "207 rows (Input_train) and 89 rows(input_test)"
   ]
  },
  {
   "cell_type": "markdown",
   "metadata": {
    "id": "SFMR7VMHWyUk"
   },
   "source": [
    "Create a keras Sequential model\r\n",
    "\r\n",
    "\r\n",
    "*   Import the Sequential class from keras.models\r\n",
    "*   Stack the layers using the .add() method\r\n",
    "\r\n",
    "\r\n",
    "*   Configure the learning process and using the .compile() method\r\n",
    "*   Train the model on teh train dataset using the .fit() method\r\n",
    "\r\n",
    "\r\n",
    "\r\n"
   ]
  },
  {
   "cell_type": "code",
   "execution_count": null,
   "metadata": {
    "colab": {
     "base_uri": "https://localhost:8080/"
    },
    "id": "vlfFAYFgcY_-",
    "outputId": "5de27ad2-ba83-47bf-f190-b51cae95dacc"
   },
   "outputs": [],
   "source": [
    "from keras.models import Sequential\r\n",
    "from keras.layers import Dense\r\n",
    "\r\n",
    "model = Sequential()\r\n",
    "model.add(Dense(30, input_dim=13, activation='tanh'))\r\n",
    "model.add(Dense(20, activation='tanh'))\r\n",
    "model.add(Dense(1, activation='sigmoid'))\r\n",
    "\r\n",
    "model.compile(optimizer='adam',loss='binary_crossentropy',metrics=['accuracy'])\r\n",
    "model.fit(Input_train, Target_train, epochs=1000, verbose=1)"
   ]
  },
  {
   "cell_type": "code",
   "execution_count": null,
   "metadata": {
    "colab": {
     "base_uri": "https://localhost:8080/"
    },
    "id": "yeOr13-pdTmZ",
    "outputId": "9455b52c-3da4-4a3f-a1f3-eaa40ea99149"
   },
   "outputs": [],
   "source": [
    "model.summary()"
   ]
  },
  {
   "cell_type": "code",
   "execution_count": null,
   "metadata": {
    "colab": {
     "base_uri": "https://localhost:8080/"
    },
    "id": "4mJ4rWdMdbDV",
    "outputId": "dc026710-4499-42c0-c30c-a77017b36e1e"
   },
   "outputs": [],
   "source": [
    "score = model.evaluate(Input_test, Target_test, verbose = 0)\r\n",
    "print('Keras Model Acccuracy= ',score[1])"
   ]
  },
  {
   "cell_type": "code",
   "execution_count": null,
   "metadata": {
    "id": "sz_BwzXZd1lE"
   },
   "outputs": [],
   "source": [
    "Target_Classifcation = model.predict(Input_test)\r\n",
    "Target_Classifcation  = (Target_Classifcation >0.5)"
   ]
  },
  {
   "cell_type": "code",
   "execution_count": null,
   "metadata": {
    "colab": {
     "base_uri": "https://localhost:8080/"
    },
    "id": "5-ONojdIeP8v",
    "outputId": "7e0f9065-1d42-4243-9e98-a7f4d9a49b76"
   },
   "outputs": [],
   "source": [
    "from sklearn.metrics import confusion_matrix\r\n",
    "print(confusion_matrix(Target_test, Target_Classifcation))"
   ]
  },
  {
   "cell_type": "code",
   "execution_count": null,
   "metadata": {
    "colab": {
     "base_uri": "https://localhost:8080/"
    },
    "id": "JFhi9t3Qepvk",
    "outputId": "3404e2b7-77a8-4cde-e08a-b9e0fd130f68"
   },
   "outputs": [],
   "source": [
    "36+37"
   ]
  },
  {
   "cell_type": "markdown",
   "metadata": {
    "id": "Bmb8rzloexhn"
   },
   "source": [
    "73 observations of 89 were correctly classified by making 16 errors with an accuracy qual to 0.82"
   ]
  },
  {
   "cell_type": "markdown",
   "metadata": {
    "id": "Qx2voMt1cxNz"
   },
   "source": [
    "\r\n",
    "\r\n",
    "*   Input_train: Aarry of input training data\r\n",
    "*   Target_train:Aarry of target (label)data\r\n",
    "\r\n",
    "\r\n",
    "*   epochs = 1000: Number of epochs to train the model. An epoch is an iteration over the entire  x and y data provided\r\n",
    "*   verbose = 1: An integer, either 0,1,or 2. Verbose mode: 0 =silent, 1= progress bar, 2= one line per epoch \r\n",
    "\r\n",
    "\r\n",
    "\r\n"
   ]
  },
  {
   "cell_type": "markdown",
   "metadata": {
    "id": "xtFZizY4YTiC"
   },
   "source": [
    "Three argiments are passed:\r\n",
    "\r\n",
    "\r\n",
    "*   The dam optimizer: An algorithm for the first-order gradient-based optimization of stochastic objective functions, based on adaptive estimates of lower-order moments\r\n",
    "*   The binary_crossentropy loss function: we will use logarithmic loss, which for a binary classification problme is defined in Keras as binary_crossentropy\r\n",
    "\r\n",
    "\r\n",
    "*   The accuracy metrhic: A metric is a function that is used to evaluate the performance of your model during training and testing\r\n",
    "\r\n",
    "\r\n",
    "\r\n"
   ]
  }
 ],
 "metadata": {
  "colab": {
   "name": "Heart disease project.ipynb",
   "provenance": []
  },
  "kernelspec": {
   "display_name": "Python 3",
   "name": "python3"
  }
 },
 "nbformat": 4,
 "nbformat_minor": 0
}
