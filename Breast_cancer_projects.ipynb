{
 "cells": [
  {
   "cell_type": "code",
   "execution_count": null,
   "metadata": {
    "colab": {
     "base_uri": "https://localhost:8080/"
    },
    "id": "aRjybbulS4Yo",
    "outputId": "e3b0df3c-a0b0-4a24-c143-ce3413611c01"
   },
   "outputs": [],
   "source": [
    "import sys\r\n",
    "import scipy\r\n",
    "import numpy\r\n",
    "import matplotlib\r\n",
    "import pandas\r\n",
    "import sklearn\r\n",
    "print('Python: {}'.format(sys.version))\r\n",
    "print('scipy: {}'.format(scipy.__version__))\r\n",
    "print('numpy: {}'.format(numpy.__version__))\r\n",
    "print('pandas: {}'.format(pandas.__version__))\r\n",
    "print('sklearn: {}'.format(sklearn.__version__))\r\n",
    "print('matplotlib: {}'.format(matplotlib.__version__))"
   ]
  },
  {
   "cell_type": "code",
   "execution_count": null,
   "metadata": {
    "id": "uwxIAmvJT7ub"
   },
   "outputs": [],
   "source": [
    "import numpy as np\r\n",
    "from sklearn import preprocessing\r\n",
    "from sklearn.model_selection import train_test_split\r\n",
    "from sklearn.neighbors import KNeighborsClassifier\r\n",
    "from sklearn.svm import SVC\r\n",
    "from sklearn import model_selection\r\n",
    "from sklearn.metrics import classification_report\r\n",
    "from sklearn.metrics import accuracy_score\r\n",
    "from pandas.plotting import scatter_matrix\r\n",
    "import matplotlib.pyplot as plt\r\n",
    "import pandas as pd\r\n",
    " "
   ]
  },
  {
   "cell_type": "code",
   "execution_count": null,
   "metadata": {
    "id": "aQaV9bVTUtfm"
   },
   "outputs": [],
   "source": [
    "# Load Dataset\r\n",
    "url = \"https://archive.ics.uci.edu/ml/machine-learning-databases/breast-cancer-wisconsin/breast-cancer-wisconsin.data\"\r\n",
    "names = ['id', 'clump_thickness','uniform_cell_size','uniform_cell_shape','marginal_adhesion','single_epithelial_size','bare_nuclei',\r\n",
    "         'bland_chromation','normal_nucleoli','nutises','class']\r\n",
    "df = pd.read_csv(url,names=names)"
   ]
  },
  {
   "cell_type": "markdown",
   "metadata": {
    "id": "LEtzPXViW83o"
   },
   "source": [
    "There are some steps to be considered\r\n",
    "\r\n",
    "*   First, our dataset contains some missiong data. To deal with this we will add a df.replace method\r\n",
    "*   If df.replace method gives us a question mark. It means that there is no data there. We are simply going to input the value -999999 and tell python to ignore that data\r\n",
    "\r\n",
    "\r\n",
    "*   We will then perform the print(df.axes) operation so that we can see the columns. We can see that we have 699 different data points and each of those cases has 11 different columns\r\n",
    "*   next we will print the shape of the dataset using the print(df.shape) operation\r\n",
    "\r\n",
    "\r\n",
    "\r\n"
   ]
  },
  {
   "cell_type": "code",
   "execution_count": null,
   "metadata": {
    "colab": {
     "base_uri": "https://localhost:8080/"
    },
    "id": "ivDJ0FLRXxjK",
    "outputId": "f6d3397a-9e38-43f9-bd8d-daca6138155f"
   },
   "outputs": [],
   "source": [
    "#Preprocess the data\r\n",
    "df.replace('?',-999999, inplace=True)\r\n",
    "print(df.axes)\r\n",
    "df.drop(['id'],1,inplace=True)\r\n",
    "#print the shape of the dataset\r\n",
    "print(df.shape)"
   ]
  },
  {
   "cell_type": "markdown",
   "metadata": {
    "id": "J58dJzUVYOhf"
   },
   "source": [
    "we can detect whether the tumor is benign (which means it is non-cancerous) or maglignant (which means it is cancerous)"
   ]
  },
  {
   "cell_type": "code",
   "execution_count": null,
   "metadata": {
    "colab": {
     "base_uri": "https://localhost:8080/"
    },
    "id": "Hd6E4lJ-Yd8C",
    "outputId": "06a75af3-d936-4ac2-c6ad-81a921065f3e"
   },
   "outputs": [],
   "source": [
    "#Do dataset visualization\r\n",
    "print(df.loc[6])"
   ]
  },
  {
   "cell_type": "markdown",
   "metadata": {
    "id": "_3EttC1ga1UA"
   },
   "source": [
    "We will visualize the parameters of the dataset\r\n",
    "\r\n",
    "*   We will print the first point so that we can see what it entails.\r\n",
    "*   We have a value of between 0 and 10 in all of the different columns. In the class column, the number 2 represents a benign tumor and the number 4 represents a malignant tumor.\r\n",
    "\r\n",
    "\r\n",
    "*   There are 699 cells in the datasets\r\n",
    "*   The next step will be to do a print.describe operation, which gives us the mean, standard deviaion, and other aspects for each of our different parameters or features.\r\n",
    "\r\n",
    "\r\n",
    "\r\n"
   ]
  },
  {
   "cell_type": "code",
   "execution_count": null,
   "metadata": {
    "colab": {
     "base_uri": "https://localhost:8080/"
    },
    "id": "3QL3PQyqbjDK",
    "outputId": "2aca8381-4692-44b2-f4fc-e05e0b069d55"
   },
   "outputs": [],
   "source": [
    "# Do dataset visualizations\r\n",
    "print(df.loc[6])\r\n",
    "print(df.describe())"
   ]
  },
  {
   "cell_type": "code",
   "execution_count": null,
   "metadata": {
    "colab": {
     "base_uri": "https://localhost:8080/",
     "height": 607
    },
    "id": "AO3V0OJwcFSm",
    "outputId": "f1d05df8-98a3-4b3b-eaa2-57fb6b501828"
   },
   "outputs": [],
   "source": [
    "#plot histograms for each variable\r\n",
    "df.hist(figsize=(10,10))\r\n",
    "plt.show()"
   ]
  },
  {
   "cell_type": "code",
   "execution_count": null,
   "metadata": {
    "colab": {
     "base_uri": "https://localhost:8080/",
     "height": 1000
    },
    "id": "bd-H4_i5coCf",
    "outputId": "842d69d0-6b9d-4ea4-ea5e-7dc528147186"
   },
   "outputs": [],
   "source": [
    "scatter_matrix(df,figsize=(18,18))\r\n",
    "plt.show()"
   ]
  },
  {
   "cell_type": "markdown",
   "metadata": {
    "id": "4P32bMiUf2_T"
   },
   "source": [
    "There are some steps will help you to better undersand the machine learning algorithm:\r\n",
    "\r\n",
    "\r\n",
    "1.   The first step is that we need to perform is to split our dataset into X and y datasets for training. We will not train all of the available data as we need to save some for our validation step. This will help us to determine how well these algorithms can generalize to new data and not just how well they know the training data. Our X data will contain all of the variables except for the class column and our Y data is going to be the class colum which is the classification of whether a tumor is malignant or benign\r\n",
    "\r\n",
    "1.   Next we will use the train_test_split function and we will then spit our data into y_train, y_test, X_train, and X_test, respective\r\n",
    "2.   In the same line we will add model_selection, train test_split and x,y,test_size. About 20% of our data is fairly standard, so we will make the test size 0.2 to test the data.\r\n",
    "\r\n",
    "\r\n"
   ]
  },
  {
   "cell_type": "code",
   "execution_count": null,
   "metadata": {
    "id": "anLR2bFMhG0J"
   },
   "outputs": [],
   "source": [
    "#Create X and Y datasets for training\r\n",
    "X = np.array(df.drop(['class'],1))\r\n",
    "y = np.array(df['class'])\r\n",
    "X_train, X_test,y_train,y_test= model_selection.train_test_split(X,y,test_size=0.2)"
   ]
  },
  {
   "cell_type": "code",
   "execution_count": null,
   "metadata": {
    "id": "_x2VjofchyL-"
   },
   "outputs": [],
   "source": [
    "#testing options\r\n",
    "seed = 8\r\n",
    "scoring = 'accuracy'"
   ]
  },
  {
   "cell_type": "markdown",
   "metadata": {
    "id": "hAjZwVVYlz56"
   },
   "source": [
    "\r\n",
    "There are several steps tp actually dening the training models\r\n",
    "1.   First, make an empty list, in which we will append the KNN model.\r\n",
    "2.   Enter the KNeighborsClassifier function to explore the number of neighbors\r\n",
    "\r\n",
    "\r\n",
    "*   Start with n_neighbors = 5 and play around with the variable a little to see how it changes our results\r\n",
    "*   Next we will add our models: the SVM and the SVC. We will evaluate each model, in turn\r\n",
    "\r\n",
    "*   The next stepp will be to get a reuslt list and a names list, so that we ca print out some of the information at the end\r\n",
    "*   We will then perform a for loop for each of the models defined previously, such as name or model in models\r\n",
    "\r\n",
    "\r\n",
    "*   W will also do a k-fold comparision which will run each of these a couple of times and then take the best results. The number of splits or n_splits, defines how many times it runs\r\n",
    "*  Since we do not want a random state, we will go from the seed. now we will get our results\r\n",
    "\r\n",
    "\r\n",
    "*   We will use the model_Seletion function that we imported previously and cross_val_score\r\n",
    "*   For each model we will provide the training data to X_train and then y_train\r\n",
    "\r\n",
    "\r\n",
    "*   We will also add the specification scoreing which was the accuracy that we added previously.\r\n",
    "*   We will also append results, name, and we will print out a msg. We will then substitude some variables\r\n",
    "\r\n",
    "\r\n",
    "*   Finally we will look at the mean results and standard deviation\r\n",
    "*   A k-fold training will take place wich means that this will be run 10 times. We will receive the average result adn accruracy for each of them. We will use a randome seed of 8, so that it is consistent across different reails adn runs\r\n",
    "\r\n",
    "\r\n",
    "\r\n",
    "\r\n",
    "\r\n",
    "\r\n",
    "\r\n",
    "\r\n",
    "\r\n",
    "\r\n",
    "\r\n",
    "\r\n",
    "\r\n"
   ]
  },
  {
   "cell_type": "code",
   "execution_count": null,
   "metadata": {
    "colab": {
     "base_uri": "https://localhost:8080/"
    },
    "id": "01rBA7Yyntj8",
    "outputId": "63641e06-bb6b-462e-a6f0-3da784c3cb4f"
   },
   "outputs": [],
   "source": [
    "models = []\r\n",
    "models.append(('KNN',KNeighborsClassifier(n_neighbors=5)))\r\n",
    "models.append(('SVM',SVC()))\r\n",
    "#evaluate each model in turn\r\n",
    "results =[]\r\n",
    "names=[]\r\n",
    "for name, model in models:\r\n",
    "  kfold = model_selection.KFold(n_splits=10,random_state=seed)\r\n",
    "  cv_results=model_selection.cross_val_score(model,X_train,y_train,cv=kfold,scoring=scoring)\r\n",
    "  results.append(cv_results)\r\n",
    "  names.append(name)\r\n",
    "  msg=\"%s: %f  (%f)\" %(name,cv_results.mean(),cv_results.std())\r\n",
    "  print(msg)"
   ]
  },
  {
   "cell_type": "markdown",
   "metadata": {
    "id": "IfMJECN6G20U"
   },
   "source": [
    "\r\n",
    "\r\n",
    "*   Firtst we will make predictions on the validation sets with the y_test and X_test that we split out earlier\r\n",
    "*   We will do another for loop in for name and model in models\r\n",
    "\r\n",
    "*   Then we will do the model.fit and it will train it once again on the X and y training data.\r\n",
    "*   Since we want to make predictions we are going to use the model to actually make a prediction about the X_test data\r\n",
    "\r\n",
    "*   Once the model has been trained, we are going to use it to make a prediction. It will print out the name, the accuracy score (based on a comparision of the y_test data with the predictions we made), and a classification_report which will tell us information about the false positives and negative that we found.\r\n",
    "\r\n",
    "\r\n",
    "\r\n",
    "\r\n",
    "\r\n"
   ]
  },
  {
   "cell_type": "code",
   "execution_count": null,
   "metadata": {
    "colab": {
     "base_uri": "https://localhost:8080/"
    },
    "id": "AtC4krPqHuQA",
    "outputId": "d511dd21-e389-40d1-c502-5977bfb796f9"
   },
   "outputs": [],
   "source": [
    "# Make predictions on validation dataset\r\n",
    "for name, model in models:\r\n",
    "  model.fit(X_train,y_train)\r\n",
    "  predictions = model.predict(X_test)\r\n",
    "  print(name)\r\n",
    "  print(accuracy_score(y_test,predictions))\r\n",
    "  print(classification_report(y_test,predictions))\r\n",
    "  #Accuracy is the ratio of correctly predicted observation to the total observations\r\n",
    "  #Prediction: (false positive) ratio of correctly predicted postive observations to the total predicted positive observations\r\n",
    "  #Recall (sensitivity): (false negative) ratio of correctly predicted positive obseravations to the all observations in actual class- yes\r\n",
    "  #f1-score: is the weitghted average of precion and recall. Therefore, this score takes both positive and negative"
   ]
  },
  {
   "cell_type": "markdown",
   "metadata": {
    "id": "5B8SUlBYJxHK"
   },
   "source": [
    "Another example of predicting:\r\n",
    "\r\n",
    "\r\n",
    "*   First, we will make the KNeighborsClassifier and get an accuracy score for it based on our testing data\r\n",
    "*   Next, we will add an example. Type in np.array and pick whichever data points you want.\r\n",
    "\r\n",
    "\r\n",
    "*   We will then take example adn add reshape to it. We will flip it around so that we get a column vector\r\n",
    "*   We will print our predictions\r\n",
    "\r\n",
    "\r\n",
    "\r\n"
   ]
  },
  {
   "cell_type": "code",
   "execution_count": null,
   "metadata": {
    "colab": {
     "base_uri": "https://localhost:8080/"
    },
    "id": "6CFNqyoCKUo-",
    "outputId": "b9541a31-6c03-4b5e-f30e-8bf30b496248"
   },
   "outputs": [],
   "source": [
    "clf = KNeighborsClassifier()\r\n",
    "\r\n",
    "clf.fit(X_train, y_train)\r\n",
    "accuracy = clf.score(X_test, y_test)\r\n",
    "print(accuracy)\r\n",
    "\r\n",
    "example_measures = np.array([[4,2,1,1,1,2,3,2,1]])\r\n",
    "example_measures = example_measures.reshape(len(example_measures), -1)\r\n",
    "prediction = clf.predict(example_measures)\r\n",
    "print(prediction)"
   ]
  }
 ],
 "metadata": {
  "colab": {
   "collapsed_sections": [],
   "name": "Breast cancer projects.ipynb",
   "provenance": []
  },
  "kernelspec": {
   "display_name": "Python 3",
   "name": "python3"
  }
 },
 "nbformat": 4,
 "nbformat_minor": 0
}
